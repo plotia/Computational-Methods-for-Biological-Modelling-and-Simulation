{
 "cells": [
  {
   "cell_type": "code",
   "execution_count": 450,
   "id": "3282afc9-c610-44b0-bf6a-b8a84acf1782",
   "metadata": {},
   "outputs": [],
   "source": [
    "import numpy as np\n",
    "import matplotlib.pyplot as plt\n",
    "from matplotlib.animation import FuncAnimation, FFMpegWriter"
   ]
  },
  {
   "cell_type": "code",
   "execution_count": 451,
   "id": "00c9c6f8-f514-4d2d-a2c6-3ed9aaab3640",
   "metadata": {},
   "outputs": [],
   "source": [
    "#  Parameters\n",
    "grid_size = 20  # Length of the grid\n",
    "iterations = 100  # Total number of iterations\n",
    "initial_cancer = 0  # Initial number of cancer cells\n",
    "cancer_add_interval = 10  # Interval for adding cancer cells in Stage 0\n",
    "fitness_h = 1.0  # Fitness for healthy cells\n",
    "fitness_h = 1.0  # Fitness for healthy cells\n",
    "fitness_c = 1.1  # Fitness for cancer cells\n",
    "immune_threshold = 15  # Cancer neighbor threshold for adding immune cells\n",
    "num_stages = 5  # Number of cancer stages\n",
    "immune_effectiveness = 0.5  # Effectiveness of immune cells against cancer\n",
    "\n",
    "# States and their corresponding colors\n",
    "cell_colors = {\n",
    "    1: 'blue',     # Healthy\n",
    "    2: 'red',      # Cancer\n",
    "    3: 'green',    # Immune\n",
    "}"
   ]
  },
  {
   "cell_type": "code",
   "execution_count": 452,
   "id": "fd719052-c34d-4e21-9161-1754bc6f5a60",
   "metadata": {},
   "outputs": [
    {
     "data": {
      "text/plain": [
       "'\\n- Stage 0: all healthy \\n- Stage 1 50/50 for health and cancer cell\\n- Stage 2 60/40 cancer and healthy\\n- Add immune cells \\n- Stage 3 70/30 \\n- Add immune cells --> number of immune cellls --> cancer cells /2 \\n- Stage 4 70/30 --> randomness\\n'"
      ]
     },
     "execution_count": 452,
     "metadata": {},
     "output_type": "execute_result"
    }
   ],
   "source": [
    "'''\n",
    "- Stage 0: all healthy \n",
    "- Stage 1 50/50 for health and cancer cell\n",
    "- Stage 2 60/40 cancer and healthy\n",
    "- Add immune cells \n",
    "- Stage 3 70/30 \n",
    "- Add immune cells --> number of immune cellls --> cancer cells /2 \n",
    "- Stage 4 70/30 --> randomness\n",
    "'''"
   ]
  },
  {
   "cell_type": "code",
   "execution_count": 453,
   "id": "67bf7b32-6fa4-40de-a15b-85c9a4d7e1cc",
   "metadata": {},
   "outputs": [],
   "source": [
    "# Initialize the grid\n",
    "def initialize_grid():\n",
    "    \"\"\"Initialize the grid with all healthy cells (Stage 0).\"\"\"\n",
    "    grid = np.ones((grid_size, grid_size), dtype=int)  # All cells healthy\n",
    "    return grid, []  # Return grid and an empty cancer positions list"
   ]
  },
  {
   "cell_type": "code",
   "execution_count": 454,
   "id": "45e96db6-789e-4559-a926-97092103aed0",
   "metadata": {},
   "outputs": [],
   "source": [
    "# Determine cancer stage based on grid proportions\n",
    "def get_stage(cancer_count, total_cells):\n",
    "    \"\"\"Determine the current stage of cancer.\"\"\"\n",
    "    proportion = cancer_count / total_cells\n",
    "    if proportion == 0:\n",
    "        return 0\n",
    "    elif proportion <= 0.20:  # Loosen thresholds for Stage 1\n",
    "        return 1\n",
    "    elif proportion <= 0.5:  # Loosen thresholds for Stage 2\n",
    "        return 2\n",
    "    elif proportion <= 0.70:  # Loosen thresholds for Stage 3\n",
    "        return 3\n",
    "    else:\n",
    "        return 4"
   ]
  },
  {
   "cell_type": "code",
   "execution_count": 455,
   "id": "e09a951f-95de-4109-9f0e-5f1019361cf2",
   "metadata": {},
   "outputs": [],
   "source": [
    "# Get probabilities for transitions based on the stage\n",
    "def get_stage_probabilities(stage):\n",
    "    \"\"\"Define transition probabilities based on stage.\"\"\"\n",
    "    return {\n",
    "        'P_H_to_C': 0.1 + 0.05 * stage,  # Increased probabilities\n",
    "        'P_C_to_H': 0.02 - 0.002 * stage,  # Slight decrease as stage increases\n",
    "        'P_C_to_I': 0.0 if stage < 2 else 0.01 + 0.01 * (stage - 2)\n",
    "    }"
   ]
  },
  {
   "cell_type": "code",
   "execution_count": 456,
   "id": "afe38257-c50b-4bfb-8533-45a7eaa006e1",
   "metadata": {},
   "outputs": [],
   "source": [
    "# Moran process for cell interactions\n",
    "def moran_process(grid, fitness_h, fitness_c):\n",
    "    \"\"\"Apply the Moran process with fitness ratios.\"\"\"\n",
    "    total_cells = grid_size ** 2\n",
    "    cancer_count = np.count_nonzero(grid == 2)\n",
    "    healthy_count = total_cells - cancer_count - np.count_nonzero(grid == 3)\n",
    "\n",
    "    for _ in range(total_cells):\n",
    "        x, y = np.random.randint(0, grid_size, size=2)\n",
    "        current_cell = grid[x, y]\n",
    "\n",
    "        # Skip immune cells\n",
    "        if current_cell == 3:\n",
    "            continue\n",
    "\n",
    "        neighbors = [(i, j) for i in range(max(0, x-1), min(grid_size, x+2))\n",
    "                     for j in range(max(0, y-1), min(grid_size, y+2))]\n",
    "        neighbor_x, neighbor_y = neighbors[np.random.randint(len(neighbors))]\n",
    "        neighbor_cell = grid[neighbor_x, neighbor_y]\n",
    "\n",
    "        if current_cell == 2 and neighbor_cell == 1:  # Cancer to Healthy\n",
    "            if np.random.rand() < (cancer_count * fitness_c / (cancer_count * fitness_c + healthy_count * fitness_h)):\n",
    "                grid[neighbor_x, neighbor_y] = 2\n",
    "    return grid"
   ]
  },
  {
   "cell_type": "code",
   "execution_count": 457,
   "id": "a3bcd6d6-43c4-4824-9c8e-cc472bf1988b",
   "metadata": {},
   "outputs": [],
   "source": [
    "def spread_cancer(grid, stage, cancer_origin):\n",
    "    \"\"\"Spread cancer dynamically based on stage.\"\"\"\n",
    "    new_grid = grid.copy()\n",
    "    probs = get_probabilities(stage)\n",
    "    cancer_positions = np.argwhere(grid == 2)\n",
    "\n",
    "    for x, y in cancer_positions:\n",
    "        neighbors = [(i, j) for i in range(max(0, x-1), min(grid_size, x+2))\n",
    "                     for j in range(max(0, y-1), min(grid_size, y+2))]\n",
    "        for nx, ny in neighbors:\n",
    "            if grid[nx, ny] == 1:  # Healthy to Cancer\n",
    "                if np.random.rand() < probs['P_H_to_C']:\n",
    "                    new_grid[nx, ny] = 2\n",
    "\n",
    "        # Introduce immune cells after Stage 2\n",
    "        if stage >= 2:\n",
    "            cancer_neighbors = sum(grid[i, j] == 2 for i, j in neighbors)\n",
    "            if cancer_neighbors >= immune_threshold:\n",
    "                for nx, ny in neighbors:\n",
    "                    if grid[nx, ny] == 1 and np.random.rand() < probs['P_C_to_I']:\n",
    "                        new_grid[nx, ny] = 3  # Add immune cell\n",
    "    return new_grid"
   ]
  },
  {
   "cell_type": "code",
   "execution_count": 458,
   "id": "8f7fed19-16ac-4357-bada-d2a4a9bff7c4",
   "metadata": {},
   "outputs": [],
   "source": [
    "# Markov transitions for state changes\n",
    "def apply_markov_transitions(grid, stage, immune_threshold):\n",
    "    \"\"\"Apply Markov transitions to model state changes.\"\"\"\n",
    "    new_grid = grid.copy()\n",
    "    probs = get_stage_probabilities(stage)\n",
    "    cancer_positions = np.argwhere(grid == 2)\n",
    "\n",
    "    for x, y in cancer_positions:\n",
    "        neighbors = [(i, j) for i in range(max(0, x-1), min(grid_size, x+2))\n",
    "                     for j in range(max(0, y-1), min(grid_size, y+2))]\n",
    "        for nx, ny in neighbors:\n",
    "            if grid[nx, ny] == 1 and np.random.rand() < probs['P_H_to_C']:\n",
    "                new_grid[nx, ny] = 2  # Healthy to Cancer\n",
    "            elif grid[nx, ny] == 2 and np.random.rand() < probs['P_C_to_H']:\n",
    "                new_grid[nx, ny] = 1  # Cancer to Healthy\n",
    "\n",
    "        # Immune response introduction if cancer cells around exceed threshold\n",
    "        if len(cancer_positions) > immune_threshold:\n",
    "            immune_count = len([n for n in neighbors if grid[n[0], n[1]] == 3])\n",
    "            if immune_count < len(cancer_positions) / 10:  # Add few immune cells\n",
    "                for nx, ny in neighbors:\n",
    "                    if grid[nx, ny] == 1 and np.random.rand() < probs['P_C_to_H']:\n",
    "                        new_grid[nx, ny] = 3\n",
    "    return new_grid"
   ]
  },
  {
   "cell_type": "code",
   "execution_count": 459,
   "id": "a62c62d3-6abc-42a5-a27a-2922bebd1948",
   "metadata": {},
   "outputs": [],
   "source": [
    "# Visualization function\n",
    "def draw_grid(grid, ax):\n",
    "    \"\"\"Draw the grid.\"\"\"\n",
    "    ax.clear()\n",
    "    ax.set_xlim(-0.5, grid_size - 0.5)\n",
    "    ax.set_ylim(-0.5, grid_size - 0.5)\n",
    "    ax.set_xticks([])\n",
    "    ax.set_yticks([])\n",
    "    for x in range(grid_size):\n",
    "        for y in range(grid_size):\n",
    "            color = cell_colors[grid[x, y]]\n",
    "            circle = plt.Circle((y, grid_size - 1 - x), 0.4, color=color)\n",
    "            ax.add_patch(circle)"
   ]
  },
  {
   "cell_type": "code",
   "execution_count": 460,
   "id": "21737efa-dc92-4925-8505-3e2991c63384",
   "metadata": {},
   "outputs": [],
   "source": [
    "# Initialize simulation\n",
    "grid, initial_cancer_positions = initialize_grid()\n",
    "healthy_counts = []\n",
    "cancer_counts = []\n",
    "immune_counts = []"
   ]
  },
  {
   "cell_type": "code",
   "execution_count": null,
   "id": "b366d88a-bfc5-44e9-851b-369a3a8889a4",
   "metadata": {},
   "outputs": [],
   "source": []
  },
  {
   "cell_type": "code",
   "execution_count": 461,
   "id": "8e558e5b-f58d-4eeb-aff0-1af9ab019ad5",
   "metadata": {},
   "outputs": [],
   "source": [
    "# Animation initialization\n",
    "def init():\n",
    "    line1.set_data([], [])\n",
    "    line2.set_data([], [])\n",
    "    line3.set_data([], [])\n",
    "    return line1, line2, line3"
   ]
  },
  {
   "cell_type": "code",
   "execution_count": 462,
   "id": "48915baa-533c-482f-ac87-6ceb895710cc",
   "metadata": {},
   "outputs": [
    {
     "data": {
      "text/plain": [
       "<matplotlib.legend.Legend at 0x139248320>"
      ]
     },
     "execution_count": 462,
     "metadata": {},
     "output_type": "execute_result"
    },
    {
     "data": {
      "image/png": "[encoded data removed]",
      "text/plain": [
       "<Figure size 1400x600 with 2 Axes>"
      ]
     },
     "metadata": {},
     "output_type": "display_data"
    }
   ],
   "source": [
    "# Setup figure\n",
    "fig, (ax1, ax2) = plt.subplots(1, 2, figsize=(14, 6))\n",
    "line1, = ax2.plot([], [], 'b', label='Healthy')\n",
    "line2, = ax2.plot([], [], 'r', label='Cancer')\n",
    "line3, = ax2.plot([], [], 'g', label='Immune')\n",
    "ax2.set_xlim(0, iterations)\n",
    "ax2.set_ylim(0, grid_size ** 2)\n",
    "ax2.set_xlabel(\"Iterations\")\n",
    "ax2.set_ylabel(\"Cell Count\")\n",
    "ax2.legend()"
   ]
  },
  {
   "cell_type": "code",
   "execution_count": 463,
   "id": "a54686e3-e9f8-4d6a-a20b-cd444ee42aeb",
   "metadata": {},
   "outputs": [
    {
     "name": "stdout",
     "output_type": "stream",
     "text": [
      "Animation saved to /Users/leilamichal/Desktop/Simulations/cell_simulation.mp4\n"
     ]
    },
    {
     "data": {
      "text/plain": [
       "<function matplotlib.pyplot.show(close=None, block=None)>"
      ]
     },
     "execution_count": 463,
     "metadata": {},
     "output_type": "execute_result"
    }
   ],
   "source": [
    "# Animation update function\n",
    "def update(frame):\n",
    "    global grid, healthy_counts, cancer_counts, immune_counts, cancer_positions\n",
    "    total_cells = grid_size ** 2\n",
    "    cancer_count = np.count_nonzero(grid == 2)\n",
    "\n",
    "    # Stage 0: Add cancer cells progressively\n",
    "    if cancer_count == 0 and frame % cancer_add_interval == 0:\n",
    "        x, y = np.random.randint(0, grid_size, size=2)\n",
    "        grid[x, y] = 2  # Add a random cancer cell\n",
    "        initial_cancer_positions.append((x, y))\n",
    "\n",
    "    # Determine stage\n",
    "    stage = get_stage(cancer_count, total_cells)\n",
    "    #print(f\"Frame {frame}: Stage {stage}, Cancer Count: {cancer_count}\")\n",
    "\n",
    "    # Apply Markov transitions\n",
    "    grid = apply_markov_transitions(grid, stage, immune_threshold)\n",
    "\n",
    "    # Update counts\n",
    "    healthy_counts.append(np.sum(grid == 1))\n",
    "    cancer_counts.append(np.sum(grid == 2))\n",
    "    immune_counts.append(np.sum(grid == 3))\n",
    "\n",
    "    # Update plot\n",
    "    time = np.arange(0, frame + 1)\n",
    "    line1.set_data(time, healthy_counts)\n",
    "    line2.set_data(time, cancer_counts)\n",
    "    line3.set_data(time, immune_counts)\n",
    "\n",
    "    draw_grid(grid, ax1)\n",
    "    ax1.set_title(f\"Cancer Simulation - Stage {stage}\")\n",
    "    return line1, line2, line3\n",
    "\n",
    "ani = FuncAnimation(fig, update, frames=timesteps + 1, init_func=init, blit=True)\n",
    "output_path = '/Users/leilamichal/Desktop/Simulations/cell_simulation.mp4'\n",
    "writer = FFMpegWriter(fps=10, metadata={'title': 'Cancer Simulation with Graph'})\n",
    "ani.save(output_path, writer=writer)\n",
    "print(f\"Animation saved to {output_path}\")\n",
    "plt.show"
   ]
  },
  {
   "cell_type": "code",
   "execution_count": null,
   "id": "146ca747-813c-447d-b71f-cb8a71fe76db",
   "metadata": {},
   "outputs": [],
   "source": []
  }
 ],
 "metadata": {
  "kernelspec": {
   "display_name": "Python 3 (ipykernel)",
   "language": "python",
   "name": "python3"
  },
  "language_info": {
   "codemirror_mode": {
    "name": "ipython",
    "version": 3
   },
   "file_extension": ".py",
   "mimetype": "text/x-python",
   "name": "python",
   "nbconvert_exporter": "python",
   "pygments_lexer": "ipython3",
   "version": "3.12.5"
  }
 },
 "nbformat": 4,
 "nbformat_minor": 5
}
