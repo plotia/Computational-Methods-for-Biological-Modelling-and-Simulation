{
  "nbformat": 4,
  "nbformat_minor": 0,
  "metadata": {
    "colab": {
      "provenance": [],
      "authorship_tag": "ABX9TyMnCfZgdSAewkXtLk6GxdGM",
      "include_colab_link": true
    },
    "kernelspec": {
      "name": "python3",
      "display_name": "Python 3"
    },
    "language_info": {
      "name": "python"
    }
  },
  "cells": [
    {
      "cell_type": "markdown",
      "metadata": {
        "id": "view-in-github",
        "colab_type": "text"
      },
      "source": [
        "<a href=\"https://colab.research.google.com/github/plotia/Computational-Methods-for-Biological-Modelling-and-Simulation/blob/main/HW6_02_712_Q4.ipynb\" target=\"_parent\"><img src=\"https://colab.research.google.com/assets/colab-badge.svg\" alt=\"Open In Colab\"/></a>"
      ]
    },
    {
      "cell_type": "markdown",
      "source": [
        "# Expectation-Maximization for Metagenomic Community Analysis\n",
        "\n",
        "In this problem, we will explore the use of expectation-maximization (EM) for a metagenomic community analysis. Our objective is to estimate the frequencies of different bacterial strains based on the frequencies of alleles at a set of variant sites that differ between strains. This problem is challenging because sequencing machines generally provide only small pieces of sequence that are unlikely to contain more than one variant site.\n",
        "\n",
        "We want to determine how common each strain is, but the value cannot be derived easily because we do not know which strain contains a particular variant allele. For example, assume we have three variant sites and three bacterial strains A, B, and C: strain A has minor alleles at sites 1 and 2, strain B has minor alleles at sites 2 and 3, and strain C has minor alleles at sites 1 and 3. If we observe a high frequency of the minor allele at site 2, we do not know how much of that frequency should be attributed to strain A and how much to strain B. Our goal is to take an observed minor allele frequency at each site and infer the frequencies of the strains.\n",
        "\n",
        "To formalize this problem, assume we have `n` variant sites and `m` bacterial strains. Define the variable `eij` to be 1 if strain `i` has the minor allele at site `j`, and 0 otherwise. Assume that the `eij` values are known. We also assume that our input includes a total count `C` of sequence reads for each site `i`, and a count `xi` representing the number of those reads containing the minor allele at that site. Our goal is to infer a set of frequencies λ = [f1, …, fm], corresponding to the frequencies of the `m` strains."
      ],
      "metadata": {
        "id": "p14SWCt3Y2JP"
      }
    },
    {
      "cell_type": "markdown",
      "source": [
        "### a. Likelihood Function\n",
        "Define a likelihood function for this problem expressing the probability of the allele observations x = [x1, …, xn] given the model λ = [f1, …, fm] and the read counts `C`.\n"
      ],
      "metadata": {
        "id": "h2zyEAW9aKW3"
      }
    },
    {
      "cell_type": "markdown",
      "source": [
        "Ans.\n",
        "Lets assume i $∈$ [1,..,n] & j $∈$ [1,..,m]\n",
        "\n",
        "For a single site $ i $, the probability of finding an allele at site i,  $ p_i $ is computed as:\n",
        "$\n",
        "p_i = \\sum_{j=1}^m f_j E_{j,i}\n",
        "$\n",
        "\n",
        "Now, to calculate the likelihood $ \\Pr(x_i | \\text{C}) $:\n",
        "$\n",
        "\\Pr(x_i | \\text{C}, \\vec\\lambda) = \\binom{C}{x_i} \\left( \\sum_{j=1}^m f_j E_{j,i} \\right)^{x_i} \\left( 1 - \\sum_{j=1}^m f_j E_{j,i} \\right)^{C - x_i}\n",
        "$\n",
        "\n",
        "The overall likelyhood is:\n",
        "\n",
        "$\n",
        "L(\\lambda) = \\prod_{i=1}^n \\binom{C}{x_i} \\left( \\sum_{j=1}^m f_j E_{j,i} \\right)^{x_i} \\left( 1 - \\sum_{j=1}^m f_j E_{j,i} \\right)^{C - x_i}\n",
        "$\n",
        "\n",
        "Where:\n",
        "- $ \\binom{C_i}{x_i} $: Binomial coefficient for total reads $( C_i )$ and minor allele reads $( x_i )$.\n",
        "- $ \\sum_{j=1}^m \\lambda_j e_{ij} $: The probability of observing the minor allele at site $ i $, which depends on the contributions of all strains.\n"
      ],
      "metadata": {
        "id": "oraaJdniWo4F"
      }
    },
    {
      "cell_type": "markdown",
      "source": [
        "### b. M-Step\n",
        "To find the maximum-likelihood frequencies using EM, we introduce latent variables `yij`, defined as the number of allele counts at site `i` that really came from strain `j`. Using this definition, define the M-step of the algorithm, i.e., estimate the frequencies `f1, …, fm` of observing a sequence from each strain given the `xj`'s and `yij`'s. Assume that there are no sequencing errors.\n"
      ],
      "metadata": {
        "id": "IU3ksZlhbCEI"
      }
    },
    {
      "cell_type": "markdown",
      "source": [
        "Ans. **Maximization step**\n",
        "\n",
        "Lets create a matrix $Y$ filled with latent variables $y_{ij}$.\n",
        "\n",
        "Hence $Y$ is a $n$ x $m$ matrix as i  ∈  [1,..,n] & j  ∈  [1,..,m]\n",
        "\n",
        "$y_{ij}$ determines the number of allele counts from a variant site $i$ in strain $j$\n",
        "\n",
        "Hence,\n",
        "\n",
        "$y_{i,j} = x_i \\frac{f_j E_{j,i}}{\\sum_{j=1}^m f_j E_{j,i}}$"
      ],
      "metadata": {
        "id": "ngH4qDYvn6iC"
      }
    },
    {
      "cell_type": "markdown",
      "source": [
        "### c. E-Step\n",
        "To specify the E-step, each `fi` should be expressed as a linear function of the `yij` values. Define the expected value of each `yij` given x and λ to specify the E-step.\n"
      ],
      "metadata": {
        "id": "bmZr8DDebCPy"
      }
    },
    {
      "cell_type": "markdown",
      "source": [
        "Ans. **Expectation step**\n",
        "\n",
        "Here, we estimate the new frequencies using data provided by the latent variables and total count of sequences studied\n",
        "\n",
        "Frequency update:\n",
        "\n",
        " $f_j^{(t+1)} = \\frac{\\sum_{i=1}^n y_{i,j}}{n C}$"
      ],
      "metadata": {
        "id": "o9JB13TErPFe"
      }
    },
    {
      "cell_type": "markdown",
      "source": [
        "### d. Pseudocode for EM Inference Method\n",
        "Write pseudocode specifying a complete inference method for λ given x. Initialize by assuming equal frequencies for each strain, and assume a user-specified number of rounds `r` of EM.\n"
      ],
      "metadata": {
        "id": "m-L-gGZwbHxX"
      }
    },
    {
      "cell_type": "markdown",
      "source": [
        "Ans.\n",
        "### Pseudocode for Expectation-Maximization Algorithm:\n",
        "\n",
        "   - Define an array $\\lambda$ with equal frequencies $ f_j = \\frac{1}{m} $ for $ j \\in [1, m] $\n",
        "   - Define m strains and n allele sites within each strains with readings taken for C sequences along with an array x containing data count for presence of each allele\n",
        "   - Define an $ m \\times n $ matrix $ E $ containing presence or absence of minor allele data at every location of that allele within that strain. Rows determine strains and columns determine minor allele sites\n",
        "   - Define a latent variable $y_{i,j} = x_i \\frac{f_j E_{j,i}}{\\sum_{j=1}^m f_j E_{j,i}}$ where $x_i \\in x$ and $i \\in [1,n]$. I denotes the site of the allele and j demotes the strain type\n",
        "   - Define an $ n \\times m $ matrix $ Y $ with latent variables $y_{ij}$\n",
        "   - Determine new $ f_j$ using the formula, $f_j^{(t+1)} = \\frac{\\sum_{i=1}^n y_{i,j}}{n C}$ to update the frequencies\n",
        "   - Based on new frequencies, repeat steps 4 to 6 for $r$ times\n",
        "   - At the $r^{th}$ iteration, determine $ \\lambda $"
      ],
      "metadata": {
        "id": "hywkzjL8MrQq"
      }
    },
    {
      "cell_type": "markdown",
      "source": [
        "### e. Code Implementation\n",
        "Write code implementing your EM inference method. The code should take as input:\n",
        "- The dimensions `m` and `n`\n",
        "- An `m × n` matrix `E` specifying the splice forms\n",
        "- The total read depth `c`\n",
        "- The vector of minor allele counts `[x1, …, xn]`\n",
        "- The number of EM rounds `r`\n",
        "\n",
        "The code should return the estimated strain frequencies `[f1, …, fm]`.\n"
      ],
      "metadata": {
        "id": "hyy7UcfpbOSZ"
      }
    },
    {
      "cell_type": "code",
      "source": [
        "import numpy as np\n",
        "\n",
        "def exp_max(m, n, E, C, x, r):\n",
        "    # Initialize λ with equal frequencies\n",
        "    λ = np.ones(m) / m\n",
        "    y = np.zeros((n, m))\n",
        "\n",
        "    print(f'Initialized frequencies to {λ}')\n",
        "\n",
        "    def p(i):\n",
        "      p_i = []\n",
        "      for j in range(m):\n",
        "        p_i.append(λ[j] * E[j][i])\n",
        "      pi = sum(p_i)\n",
        "      return pi\n",
        "\n",
        "    def latent_variable(i,j):\n",
        "      y_ij = x[i] * ((λ[j] * E[j][i])/(p(i)))\n",
        "      return y_ij\n",
        "\n",
        "    def exp(j):\n",
        "      yi = []\n",
        "      for i in range(n):\n",
        "        yi.append(y[i][j])\n",
        "      sum_yi = np.sum(yi)\n",
        "      fj = sum_yi/(n*C)\n",
        "      return fj\n",
        "\n",
        "    for _ in range(r):\n",
        "\n",
        "      for i in range(n):\n",
        "        for j in range(m):\n",
        "          y[i][j] = latent_variable(i,j)\n",
        "\n",
        "      for j in range(m):\n",
        "        λ[j] = exp(j)\n",
        "\n",
        "    print(f'Final estimated strain frequencies are {λ}')"
      ],
      "metadata": {
        "id": "pUv04xzpLaZh"
      },
      "execution_count": 7,
      "outputs": []
    },
    {
      "cell_type": "markdown",
      "source": [
        "### f. Example Data Set\n",
        "Provide your inferred frequencies for the following dataset:\n",
        "\n",
        "- m = 3, n = 4\n",
        "- Matrix `E`:\n",
        "$$\n",
        "\\begin{bmatrix}\n",
        "1 & 0 & 1 & 1 \\\\\n",
        "1 & 1 & 0 & 0\\\\\n",
        "0 & 1 & 1 & 0\n",
        "\\end{bmatrix}\n",
        "$$\n",
        "  \n",
        "- Total read depth `C` = 50\n",
        "- Minor allele counts: `[24, 16, 32, 19]`\n",
        "- Number of EM rounds `r` = 100\n"
      ],
      "metadata": {
        "id": "t3Hw81Rabn_0"
      }
    },
    {
      "cell_type": "code",
      "source": [
        "# Test data\n",
        "m, n = 3, 4\n",
        "E = np.array([\n",
        "    [1, 0, 1, 1],\n",
        "    [1, 1, 0, 0],\n",
        "    [0, 1, 1, 0]\n",
        "])\n",
        "C = 50\n",
        "x = np.array([24, 16, 32, 19])\n",
        "r = 100\n"
      ],
      "metadata": {
        "id": "NBAjX0dwKetK"
      },
      "execution_count": 8,
      "outputs": []
    },
    {
      "cell_type": "code",
      "source": [
        "exp_max(m,n,E,C,x,r)"
      ],
      "metadata": {
        "colab": {
          "base_uri": "https://localhost:8080/"
        },
        "id": "wf3UKdMIOHYt",
        "outputId": "e383a53c-d34a-4461-8f99-8f5ec358bb7c"
      },
      "execution_count": 8,
      "outputs": [
        {
          "output_type": "stream",
          "name": "stdout",
          "text": [
            "Initialized frequencies to [0.33333333 0.33333333 0.33333333]\n",
            "Final estimated strain frequencies are [0.33025005 0.00945263 0.11529732]\n"
          ]
        }
      ]
    }
  ]
}