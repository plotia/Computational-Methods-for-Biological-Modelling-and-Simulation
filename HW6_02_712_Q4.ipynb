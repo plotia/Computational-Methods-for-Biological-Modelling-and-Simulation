{
  "nbformat": 4,
  "nbformat_minor": 0,
  "metadata": {
    "colab": {
      "provenance": [],
      "authorship_tag": "ABX9TyNSd+OOLBWxulI7g2IBReZK",
      "include_colab_link": true
    },
    "kernelspec": {
      "name": "python3",
      "display_name": "Python 3"
    },
    "language_info": {
      "name": "python"
    }
  },
  "cells": [
    {
      "cell_type": "markdown",
      "metadata": {
        "id": "view-in-github",
        "colab_type": "text"
      },
      "source": [
        "<a href=\"https://colab.research.google.com/github/plotia/Computational-Methods-for-Biological-Modelling-and-Simulation/blob/main/HW6_02_712_Q4.ipynb\" target=\"_parent\"><img src=\"https://colab.research.google.com/assets/colab-badge.svg\" alt=\"Open In Colab\"/></a>"
      ]
    },
    {
      "cell_type": "markdown",
      "source": [],
      "metadata": {
        "id": "p14SWCt3Y2JP"
      }
    },
    {
      "cell_type": "code",
      "source": [
        "import numpy as np\n",
        "\n",
        "def exp_max(m, n, E, C, x, r):\n",
        "\n",
        "  # Initialize λ with equal frequencies\n",
        "    λ = np.ones(m) / m\n",
        "\n",
        "  # Create matrix y for taking values yij\n",
        "    y = np.zeros((m, n))\n",
        "\n",
        "  # Prepare numerators and denominators for y\n",
        "    Num = np.zeros((n, m))\n",
        "\n",
        "    for _ in range(r):\n",
        "\n",
        "      for i in range(n):\n",
        "        for j in range(m):\n",
        "          Num[i][j] = λ[j] * E[j][i]\n",
        "\n",
        "      for i in range (n):\n",
        "        for j in range(m):\n",
        "          y[j][i] = Num[i][j] * x[i] / np.sum(Num[i])\n",
        "\n",
        "      for j in range(m):\n",
        "        λ[j] = np.sum(y[j]) / (n * C)\n",
        "\n",
        "    return λ, y"
      ],
      "metadata": {
        "id": "pUv04xzpLaZh"
      },
      "execution_count": 33,
      "outputs": []
    },
    {
      "cell_type": "code",
      "source": [
        "# Test data\n",
        "m, n = 3, 4\n",
        "E = np.array([\n",
        "    [1, 0, 1, 1],\n",
        "    [1, 1, 0, 0],\n",
        "    [0, 1, 1, 0]\n",
        "])\n",
        "C = 50\n",
        "x = np.array([24, 16, 32, 19])\n",
        "r = 100\n"
      ],
      "metadata": {
        "id": "NBAjX0dwKetK"
      },
      "execution_count": 36,
      "outputs": []
    },
    {
      "cell_type": "code",
      "source": [
        "exp_max(m,n,E,C,x,r)"
      ],
      "metadata": {
        "colab": {
          "base_uri": "https://localhost:8080/"
        },
        "id": "wf3UKdMIOHYt",
        "outputId": "99dd20cb-cd4d-4c8f-edb1-5290a68ea24f"
      },
      "execution_count": 37,
      "outputs": [
        {
          "output_type": "execute_result",
          "data": {
            "text/plain": [
              "(array([0.33025005, 0.00945263, 0.11529732]),\n",
              " array([[23.32853607,  0.        , 23.72147338, 19.        ],\n",
              "        [ 0.67146393,  1.21906204,  0.        ,  0.        ],\n",
              "        [ 0.        , 14.78093796,  8.27852662,  0.        ]]))"
            ]
          },
          "metadata": {},
          "execution_count": 37
        }
      ]
    },
    {
      "cell_type": "code",
      "source": [
        "import numpy as np\n",
        "\n",
        "def exp_max_results(m, n, E, C, x, r):\n",
        "\n",
        "  # Initialize λ with equal frequencies\n",
        "    λ = np.ones(m) / m\n",
        "\n",
        "  # Create matrix y for taking values yij\n",
        "    y = np.zeros((m, n))\n",
        "\n",
        "  # Prepare numerators and denominators for y\n",
        "    Num = np.zeros((n, m))\n",
        "\n",
        "    for _ in range(r):\n",
        "\n",
        "      for i in range(n):\n",
        "        for j in range(m):\n",
        "          Num[i][j] = λ[j] * E[j][i]\n",
        "\n",
        "      for i in range (n):\n",
        "        for j in range(m):\n",
        "          y[j][i] = Num[i][j] * x[i] / np.sum(Num[i])\n",
        "\n",
        "      for j in range(m):\n",
        "        λ[j] = np.sum(y[j]) / (n * C)\n",
        "\n",
        "    print(f\"Strain {np.argmax(λ)+1} is the most common strain.\")"
      ],
      "metadata": {
        "id": "S97aXfQpXLeL"
      },
      "execution_count": 45,
      "outputs": []
    },
    {
      "cell_type": "code",
      "source": [
        "exp_max_results(m,n,E,C,x,r)"
      ],
      "metadata": {
        "colab": {
          "base_uri": "https://localhost:8080/"
        },
        "id": "R0GdY6JNXiit",
        "outputId": "02fe863f-4a46-4f98-9743-10c17a3674d2"
      },
      "execution_count": 46,
      "outputs": [
        {
          "output_type": "stream",
          "name": "stdout",
          "text": [
            "Strain 1 is the most common strain.\n"
          ]
        }
      ]
    }
  ]
}