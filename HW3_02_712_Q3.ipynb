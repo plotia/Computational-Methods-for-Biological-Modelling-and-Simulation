{
  "nbformat": 4,
  "nbformat_minor": 0,
  "metadata": {
    "colab": {
      "provenance": [],
      "authorship_tag": "ABX9TyNCMZKoJHFC/mXgB8tcbz6x",
      "include_colab_link": true
    },
    "kernelspec": {
      "name": "python3",
      "display_name": "Python 3"
    },
    "language_info": {
      "name": "python"
    }
  },
  "cells": [
    {
      "cell_type": "markdown",
      "metadata": {
        "id": "view-in-github",
        "colab_type": "text"
      },
      "source": [
        "<a href=\"https://colab.research.google.com/github/plotia/Computational-Methods-for-Biological-Modelling-and-Simulation/blob/main/HW3_02_712_Q3.ipynb\" target=\"_parent\"><img src=\"https://colab.research.google.com/assets/colab-badge.svg\" alt=\"Open In Colab\"/></a>"
      ]
    },
    {
      "cell_type": "markdown",
      "source": [
        "# Susceptible, Infected, Recovered model for Zombie attack"
      ],
      "metadata": {
        "id": "YZEHt2J_yfLO"
      }
    },
    {
      "cell_type": "markdown",
      "source": [
        "Q3 d & e"
      ],
      "metadata": {
        "id": "HOy1rK_QyxtZ"
      }
    },
    {
      "cell_type": "code",
      "source": [
        "import numpy as np\n",
        "import random\n",
        "# A function for finding time taken to eliminate all zombies along with S and R values\n",
        "# Note: There is no zombie killing here\n",
        "def survival(λ_1, λ_2, N, m):\n",
        "  S = N - m\n",
        "  I = m\n",
        "  R = 0\n",
        "  # Simulation loop\n",
        "  time = 0\n",
        "\n",
        "  while I > 0:\n",
        "    # Calculate transition rates\n",
        "    infection_rate = λ_1 * (I * S) / N\n",
        "    death_rate = λ_2 * I\n",
        "    total_rate = infection_rate + death_rate\n",
        "\n",
        "    def exponential_random_variable(rate):\n",
        "      return np.random.exponential(scale=1/rate, size=1)\n",
        "\n",
        "    # Determine time to next event\n",
        "    time_step = exponential_random_variable(total_rate)\n",
        "    time += time_step\n",
        "\n",
        "    if random.random() < infection_rate / total_rate:\n",
        "      # Infection event\n",
        "      if S > 0:\n",
        "        S -= 1\n",
        "        I += 1\n",
        "    else:\n",
        "      # Death event\n",
        "      if I > 0:\n",
        "        I -= 1\n",
        "        R += 1\n",
        "\n",
        "  print(\"Final population counts:\")\n",
        "  print(\"  Susceptible (S):\", S)\n",
        "  print(\"  Infected (I):\", I)\n",
        "  print(\"  Removed (R):\", R)\n",
        "\n",
        "  return print(time)"
      ],
      "metadata": {
        "id": "MKcdvTuSOYTa"
      },
      "execution_count": null,
      "outputs": []
    },
    {
      "cell_type": "code",
      "source": [
        "survival(4, 1, 100, 25) #Using the function over example values"
      ],
      "metadata": {
        "colab": {
          "base_uri": "https://localhost:8080/"
        },
        "id": "jRHFJ8F-UK8k",
        "outputId": "cdc3a069-6e5b-4b23-ca9a-74870cdc480c"
      },
      "execution_count": null,
      "outputs": [
        {
          "output_type": "stream",
          "name": "stdout",
          "text": [
            "Final population counts:\n",
            "  Susceptible (S): 2\n",
            "  Infected (I): 0\n",
            "  Removed (R): 98\n",
            "[4.50493672]\n"
          ]
        }
      ]
    },
    {
      "cell_type": "markdown",
      "source": [
        "## Q3 d"
      ],
      "metadata": {
        "id": "1yrTFd33y6g9"
      }
    },
    {
      "cell_type": "code",
      "source": [
        "import numpy as np\n",
        "import random\n",
        "\n",
        "def chances_of_no_survival(λ_1, λ_2, λ_3, N, m, t):\n",
        "    f = 0  # Counter for times when S = 0 at the end of the run\n",
        "\n",
        "    # Run the simulation for t times\n",
        "    for _ in range(t):\n",
        "        # Initial values for each simulation\n",
        "        S = N - m\n",
        "        I = m\n",
        "        R = 0\n",
        "        time = 0\n",
        "\n",
        "        # Simulation loop\n",
        "        while I > 0:\n",
        "            # Calculate transition rates\n",
        "            infection_rate = λ_1 * (I * S) / N\n",
        "            zombie_killing_rate = (λ_3 * I * S) / (S + I + R)\n",
        "            death_rate = λ_2 * I\n",
        "            total_rate = infection_rate + death_rate + zombie_killing_rate\n",
        "\n",
        "            def exponential_random_variable(rate):\n",
        "                return np.random.exponential(scale=1/rate, size=1)\n",
        "\n",
        "            # Determine time to next event\n",
        "            time_step = exponential_random_variable(total_rate)\n",
        "            time += time_step\n",
        "\n",
        "            # Determine event type\n",
        "            if random.random() < infection_rate / total_rate:\n",
        "                # Infection event\n",
        "                if S > 0:\n",
        "                    S -= 1\n",
        "                    I += 1\n",
        "            else:\n",
        "                # Death event\n",
        "                if I > 0:\n",
        "                    I -= 1\n",
        "                    R += 1\n",
        "\n",
        "        # Check if S = 0 at the end of this run. If zombies are alive, thats not an issue as they will die over time.\n",
        "        if S == 0:\n",
        "            f += 1\n",
        "\n",
        "    # Return the fraction f/t\n",
        "    return print(f'The probability that no person survives is {f/t*100}%') # This print statement was also unnecessarily indented"
      ],
      "metadata": {
        "id": "chBZtjwTb2tF"
      },
      "execution_count": 1,
      "outputs": []
    },
    {
      "cell_type": "code",
      "source": [
        "chances_of_no_survival(1.5,0.001,1,10000,100,100)"
      ],
      "metadata": {
        "colab": {
          "base_uri": "https://localhost:8080/"
        },
        "id": "ca-qhfymVSVp",
        "outputId": "34123dd7-70a8-47b9-ef2c-af1e187e943c"
      },
      "execution_count": 2,
      "outputs": [
        {
          "output_type": "stream",
          "name": "stdout",
          "text": [
            "The probability that no person survives is 100.0%\n"
          ]
        }
      ]
    },
    {
      "cell_type": "code",
      "source": [
        "chances_of_no_survival(1.5,0.01,1,10000,100,100)"
      ],
      "metadata": {
        "colab": {
          "base_uri": "https://localhost:8080/"
        },
        "id": "m11MGJp3qQSi",
        "outputId": "4f0a2e83-dd54-4dcc-d08e-987678dd1a0f"
      },
      "execution_count": 3,
      "outputs": [
        {
          "output_type": "stream",
          "name": "stdout",
          "text": [
            "The probability that no person survives is 100.0%\n"
          ]
        }
      ]
    },
    {
      "cell_type": "code",
      "source": [
        "chances_of_no_survival(1.5,0.04,1,10000,100,100)"
      ],
      "metadata": {
        "colab": {
          "base_uri": "https://localhost:8080/"
        },
        "id": "noQ_P_V_qsxv",
        "outputId": "228e8ad2-0467-470c-8cf3-6d8c94408ccb"
      },
      "execution_count": 7,
      "outputs": [
        {
          "output_type": "stream",
          "name": "stdout",
          "text": [
            "The probability that no person survives is 95.0%\n"
          ]
        }
      ]
    },
    {
      "cell_type": "code",
      "source": [
        "chances_of_no_survival(1.5,0.045,1,10000,100,100)"
      ],
      "metadata": {
        "colab": {
          "base_uri": "https://localhost:8080/"
        },
        "id": "Xlbz3cZXrM6x",
        "outputId": "be255e51-5a39-4a11-a8e4-096593c151fb"
      },
      "execution_count": 10,
      "outputs": [
        {
          "output_type": "stream",
          "name": "stdout",
          "text": [
            "The probability that no person survives is 89.0%\n"
          ]
        }
      ]
    },
    {
      "cell_type": "code",
      "source": [
        "chances_of_no_survival(1.5,0.05,1,10000,100,100)"
      ],
      "metadata": {
        "colab": {
          "base_uri": "https://localhost:8080/"
        },
        "id": "RSnmQ4_Xq9hh",
        "outputId": "8939b57e-ed04-4ec5-8092-b31eea41e232"
      },
      "execution_count": 8,
      "outputs": [
        {
          "output_type": "stream",
          "name": "stdout",
          "text": [
            "The probability that no person survives is 68.0%\n"
          ]
        }
      ]
    },
    {
      "cell_type": "code",
      "source": [
        "chances_of_no_survival(1.5,0.055,1,10000,100,100)"
      ],
      "metadata": {
        "colab": {
          "base_uri": "https://localhost:8080/"
        },
        "id": "1oKq-cY0rRvI",
        "outputId": "e6d000e0-d35c-4bf8-94ae-b2b188aeab5e"
      },
      "execution_count": 11,
      "outputs": [
        {
          "output_type": "stream",
          "name": "stdout",
          "text": [
            "The probability that no person survives is 35.0%\n"
          ]
        }
      ]
    },
    {
      "cell_type": "code",
      "source": [
        "chances_of_no_survival(1.5,0.06,1,10000,100,100)"
      ],
      "metadata": {
        "colab": {
          "base_uri": "https://localhost:8080/"
        },
        "id": "_tN5qmWgrDnt",
        "outputId": "2529b974-11db-4147-f1ce-4dd62a4b0856"
      },
      "execution_count": 9,
      "outputs": [
        {
          "output_type": "stream",
          "name": "stdout",
          "text": [
            "The probability that no person survives is 15.0%\n"
          ]
        }
      ]
    },
    {
      "cell_type": "code",
      "source": [
        "chances_of_no_survival(1.5,0.1,1,10000,100,100)"
      ],
      "metadata": {
        "colab": {
          "base_uri": "https://localhost:8080/"
        },
        "id": "EO4FJVe3qVz2",
        "outputId": "7388ad98-d808-470e-8381-1b56b7db8fdc"
      },
      "execution_count": 12,
      "outputs": [
        {
          "output_type": "stream",
          "name": "stdout",
          "text": [
            "The probability that no person survives is 0.0%\n"
          ]
        }
      ]
    },
    {
      "cell_type": "code",
      "source": [
        "lambda2 = np.array([0.001, 0.01, 0.04, 0.045, 0.05, 0.055, 0.06, 0.1, 1, 10, 100])\n",
        "for i in lambda2:\n",
        " print(f'{chances_of_no_survival(1.5,i,1,10000,100,100)} λ_2 = {i}')"
      ],
      "metadata": {
        "colab": {
          "base_uri": "https://localhost:8080/"
        },
        "id": "2gyDTXXHri2H",
        "outputId": "a196fbc2-0fb4-4da8-cbde-83208c483e3f"
      },
      "execution_count": 17,
      "outputs": [
        {
          "output_type": "stream",
          "name": "stdout",
          "text": [
            "The probability that no person survives is 100.0%\n",
            "None λ_2 = 0.001\n",
            "The probability that no person survives is 100.0%\n",
            "None λ_2 = 0.01\n",
            "The probability that no person survives is 97.0%\n",
            "None λ_2 = 0.04\n",
            "The probability that no person survives is 91.0%\n",
            "None λ_2 = 0.045\n",
            "The probability that no person survives is 69.0%\n",
            "None λ_2 = 0.05\n",
            "The probability that no person survives is 46.0%\n",
            "None λ_2 = 0.055\n",
            "The probability that no person survives is 19.0%\n",
            "None λ_2 = 0.06\n",
            "The probability that no person survives is 0.0%\n",
            "None λ_2 = 0.1\n",
            "The probability that no person survives is 0.0%\n",
            "None λ_2 = 1.0\n",
            "The probability that no person survives is 0.0%\n",
            "None λ_2 = 10.0\n",
            "The probability that no person survives is 0.0%\n",
            "None λ_2 = 100.0\n"
          ]
        }
      ]
    },
    {
      "cell_type": "code",
      "source": [
        "#Removing print from code for plotting\n",
        "def percent_no_survival(λ_1, λ_2, λ_3, N, m, t):\n",
        "    f = 0  # Counter for times when S = 0 at the end of the run\n",
        "\n",
        "    # Run the simulation for t times\n",
        "    for _ in range(t):\n",
        "        # Initial values for each simulation\n",
        "        S = N - m\n",
        "        I = m\n",
        "        R = 0\n",
        "        time = 0\n",
        "\n",
        "        # Simulation loop\n",
        "        while I > 0:\n",
        "            # Calculate transition rates\n",
        "            infection_rate = λ_1 * (I * S) / N\n",
        "            zombie_killing_rate = (λ_3 * I * S) / (S + I + R)\n",
        "            death_rate = λ_2 * I\n",
        "            total_rate = infection_rate + death_rate + zombie_killing_rate\n",
        "\n",
        "            def exponential_random_variable(rate):\n",
        "                return np.random.exponential(scale=1/rate, size=1)\n",
        "\n",
        "            # Determine time to next event\n",
        "            time_step = exponential_random_variable(total_rate)\n",
        "            time += time_step\n",
        "\n",
        "            # Determine event type\n",
        "            if random.random() < infection_rate / total_rate:\n",
        "                # Infection event\n",
        "                if S > 0:\n",
        "                    S -= 1\n",
        "                    I += 1\n",
        "            else:\n",
        "                # Death event\n",
        "                if I > 0:\n",
        "                    I -= 1\n",
        "                    R += 1\n",
        "\n",
        "        # Check if S = 0 at the end of this run. If zombies are alive, thats not an issue as they will die over time.\n",
        "        if S == 0:\n",
        "            f += 1\n",
        "\n",
        "    # Return the fraction f/t\n",
        "    return (f * 100)/t"
      ],
      "metadata": {
        "id": "ACowOyngu7Z4"
      },
      "execution_count": 19,
      "outputs": []
    },
    {
      "cell_type": "code",
      "source": [
        "import matplotlib.pyplot as plt\n",
        "\n",
        "X = []\n",
        "Y_fight = []\n",
        "Y_no_fight = []\n",
        "for i in lambda2:\n",
        "  X.append(i)\n",
        "  Y_fight.append(percent_no_survival(1.5,i,1,10000,100,100))\n",
        "  Y_no_fight.append(percent_no_survival(1.5,i,0,10000,100,100))\n",
        "\n",
        "plt.plot(X, Y_fight, label='Fight')\n",
        "plt.plot(X, Y_no_fight, label='No Fight')\n",
        "plt.xlabel('λ_2')\n",
        "plt.xscale('log')\n",
        "plt.ylabel('Probability of no survival')\n",
        "plt.title('Probability of no survival vs λ_2')\n",
        "plt.legend()\n",
        "plt.grid(True)\n",
        "plt.show()"
      ],
      "metadata": {
        "colab": {
          "base_uri": "https://localhost:8080/",
          "height": 476
        },
        "id": "W4mDgXBlr9aI",
        "outputId": "90ff78ff-8bf8-4777-8ff6-31dd72323c96"
      },
      "execution_count": 21,
      "outputs": [
        {
          "output_type": "display_data",
          "data": {
            "text/plain": [
              "<Figure size 640x480 with 1 Axes>"
            ],
            "image/png": "[encoded data removed]"
          },
          "metadata": {}
        }
      ]
    }
  ]
}